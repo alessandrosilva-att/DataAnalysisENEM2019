{
 "cells": [
  {
   "cell_type": "markdown",
   "metadata": {},
   "source": [
    "<h1><center><b>UNIVERSIDADE DE CAXIAS DO SUL</b></center></h1>\n",
    "<h1><center>Pós Graduação em Ciência de Dados</center></h1>\n",
    "<h2><center>APRENDIZADO DE MÁQUINA I</center></h2>\n",
    "<h2><center>Alessandro Josué da Silva<i><br>ajsilva@ucs.br</i><br><br>Caio Gustavo Rodrigues da Silva <br><i>cgrsilva@ucs.br</i></center></h2>\n",
    "<h2><center>PROJETO FINAL DA DISCIPLINA DE APRENDIZADO DE MÁQUINA I<br><br>Professora Renata De Paris</center></h2>"
   ]
  },
  {
   "cell_type": "markdown",
   "metadata": {},
   "source": [
    "<br><h1><center><b>PRÉ-PROCESSAMENTO, ANÁLISE EXPLORATÓRIA E APLICAÇÃO DE CLUSTERIZAÇÃO NOS DADOS DO ENEM 2019 COM O USO DO K-MEANS</b></center></h1><br>"
   ]
  },
  {
   "cell_type": "markdown",
   "metadata": {},
   "source": [
    "# 1. INTRODUÇÃO<br>\n",
    "\n",
    "<div align=\"justify\"><i>Inteligência artificial</i> é um campo da tecnologia dedicado à simulação de inteligência, à semelhança da inteligência humana, em máquinas. Além de prover respostas com base em perguntas por meio de programação, a IA vai além, permitindo a sistemas computacionais \"descobrirem\" respostas a perguntas ainda não feitas, através de aprendizado [1].</div><br>\n",
    "\n",
    "<div align=\"justify\">A IA é uma área vasta de conhecimento, dividida em sub áreas, como aprendizado de máquina (do inglês <i>Machine Learning</i>), aprendizado profundo (ou <i>Deep Learning</i>) e processamento de linguagem natural - <i>PLN</i>. Nas últimas décadas muito do foco colocado nesse campo de estudo têm sido concentrado especificamente no estudo de Machine Learning (ML) [2].</div><br>\n",
    "\n",
    "<div align=\"justify\">Os estudos relacionados a ML se difundiram, principalmente, devido às pesquisas relacionadas ao reconhecimento de padrões e da importância da automação destes processos, através da concepção de máquinas computadorizadas que detivessem a capacidade de aprender novas atividades, sem a necessidade de serem pré-programadas, com base em dados retroativos [3].</div><br>\n",
    "\n",
    "<div align=\"justify\">Desta maneira, a técnica de ML pode ser caracterizada como a habilidade de proporcionar conhecimento a computadores utilizando-se de dados de eventos passados. Por meio desta técnica é possível realizar a identificação de padrões e características que dificilmente seriam perceptíveis de maneira clara para um humano [4].</div><br>\n",
    "\n",
    "<div align=\"justify\">Os estudos relacionados ao Aprendizado de Máquinas podem ser subdivididos em três conjuntos: algoritmos de aprendizado supervisionado, não-supervisionado e semisupervisionado.</div><br>\n",
    "\n",
    "## 1.1. Algoritmos supervisionados<br>\n",
    "\n",
    "<div align=\"justify\">De acordo com Shalev-Shwartz e Ben-David [5], os algoritmos pertencentes ao conjunto dos supervisionados utilizam-se da experiência para a obtenção de conhecimento. Nestes algoritmos são utilizados dados pré-rotulados na etapa de treinamento, para posterior reconhecimento e classificação de novos dados. Estes podem ser divididos entre os de classificação, onde o algoritmo classifica a informação em categorias, ou regressão, que resulta em valores contínuos.</div><br>\n",
    "\n",
    "## 1.2. Algoritmos não supervisionados<br>\n",
    "\n",
    "<div align=\"justify\">Os algoritmos não supervisionados são utilizados quando não se possui rótulos prévios para a classificação dos dados [4]. Estes algoritmos possuem dados de entrada e nenhuma resposta como saída e sua utilização resulta em grupos (clusters) de dados com características em comum [6], que geralmente necessitam de uma análise para a extração de conhecimento de cada agrupamento [7].</div><br>\n",
    "\n",
    "### 1.2.1. K-Means<br>\n",
    "\n",
    "<div align=\"justify\">O K-Means pertence ao grupo dos algoritmos de aprendizado de máquina não supervisionados, pois não trabalha com dados rotulados. Este algoritmo tem como objetivo a realização de agrupamento de dados de acordo com as suas similaridades, ou seja, realizar o agrupamento através das semelhanças encontradas em cada atributo da fonte de dados [8].  O método K-Means, utiliza-se da distância euclidiana entre os itens para a realização dos agrupamentos [9], onde dado um número de clusters, previamente determinado, é realizado o cálculo da distância euclidiana entre os pontos e os centróides. Segundo Santana [8], esta iteração entre os dados ocorre N vezes e a cada nova iteração é calculada a média dos valores dos pontos de cada cluster e o valor médio será o novo centroide.</div><br>\n",
    "\n",
    "## 1.3. Algoritmos semissupervisionados<br>\n",
    "\n",
    "<div align=\"justify\">Segundo Filho [10], os algoritmos do conjunto de semi-supervisionados são uma abordagem intermediária entre os algoritmos de aprendizagem supervisionada e não supervisionada. Estes se caracterizam, principalmente, pela possibilidade de suportarem as tarefas de classificação de dados e as tarefas de agrupamento.</div><br>"
   ]
  },
  {
   "cell_type": "markdown",
   "metadata": {},
   "source": [
    "# 2. MATERIAIS E MÉTODOS<br>\n",
    "\n",
    "<div align=\"justify\">O desenvolvimento deste projeto tem como principal objetivo a exploração e análise de dados retroativos do ENEM (Exame Nacional do Ensino Médio), no Brasil, do ano de 2019. O ENEM, criado no ano de 1998, tem como objetivos: avaliar o desempenho dos estudantes do ensino médio, ser uma nota de corte para o egresso dos participantes em instituições do ensino superior e ser um critério de seleção para os estudantes que pretendem concorrer a programas de ensino, como o ProUni, fornecidos pelo governo [11].</div><br>\n",
    "\n",
    "## 2.1. Dados do ENEM<br>\n",
    "\n",
    "<div align=\"justify\">Os dados foram obtidos a partir do site do <a href=\"http://download.inep.gov.br/microdados/microdados_enem_2019.zip\" target=\"_blank\">INEP</a>, e a descrição de cada <i>feature</i> pode ser consultada em <a href=\"https://github.com/alura-cursos/imersao-dados-2-2020/tree/master/DICION%C3%81RIO\" target=\"_blank\">Dicionário ENEM 2019 Alura</a>.</div><br>\n",
    "\n",
    "<div align=\"justify\">Esse estudo se baseou na relação entre os dados do questionário socioeconômico e a nota média da prova, que considera as diferentes áreas avaliadas pelo ENEM mais a nota da redação, para responder a seguinte pergunta: <b>A nota média pode ser influenciada pelas condições socioeconômicas dos participantes?</b></div><br>\n",
    "\n",
    "<div align=\"justify\">A hipótese é de que sim, a condição social pode influenciar na nota do ENEM.</div>"
   ]
  },
  {
   "cell_type": "markdown",
   "metadata": {},
   "source": [
    "## 2.2. EDA I: *Exploratory Data Analysis* - *dataset* original<br>\n",
    "\n",
    "### 2.2.1. Importação dos pacotes<br>\n",
    "\n",
    "<div align=\"justify\">Os pacotes utilizados trabalham desde o carregamento do arquivo para um <i>dataframe</i>, como <b>Pandas</b> e <b>Dask Dataframe</b> até visualização, como <b>Seaborn</b>, <b>Matplolib</b> e <b>Plotly</b>, passando pelos algoritmos de aprendizado de máquina, como <b>K-Means</b> (um <i>sub package</i> do Scikit Learn), e ferramentas adicionais de análise, como <b>Kneed</b> e <b>Yellowbrick</b>. </div><br>"
   ]
  },
  {
   "cell_type": "code",
   "execution_count": 1,
   "metadata": {},
   "outputs": [],
   "source": [
    "import pandas as pd\n",
    "import matplotlib.pyplot as plt  \n",
    "import numpy as np\n",
    "import seaborn as sns\n",
    "import scipy.cluster.hierarchy as shc\n",
    "import time\n",
    "\n",
    "from sklearn.cluster import AgglomerativeClustering\n",
    "from sklearn.preprocessing import StandardScaler, MinMaxScaler\n",
    "from sklearn.cluster import KMeans\n",
    "from yellowbrick.cluster.elbow import kelbow_visualizer\n",
    "from kneed import KneeLocator\n",
    "from sklearn.manifold import TSNE\n",
    "from sklearn.preprocessing import OrdinalEncoder\n",
    "\n",
    "import plotly.express as px\n",
    "import plotly.graph_objects as go\n",
    "import plotly.offline as py\n",
    "\n",
    "%matplotlib inline\n",
    "sns.set(style = \"darkgrid\")\n",
    "ini = time.time()"
   ]
  },
  {
   "cell_type": "markdown",
   "metadata": {},
   "source": [
    "### 2.2.2. Carregamento dos dados para um *dataframe*<br>\n"
   ]
  },
  {
   "cell_type": "code",
   "execution_count": null,
   "metadata": {},
   "outputs": [],
   "source": [
    "fonte = \"https://github.com/alura-cursos/imersao-dados-2-2020/blob/master/MICRODADOS_ENEM_2019_SAMPLE_43278.csv?raw=true\"\n",
    "\n",
    "df = pd.read_csv(fonte)\n",
    "\n",
    "df.head()"
   ]
  },
  {
   "cell_type": "code",
   "execution_count": null,
   "metadata": {},
   "outputs": [],
   "source": [
    "# Conhecendo a estrutura do dataset\n",
    "df.shape"
   ]
  },
  {
   "cell_type": "code",
   "execution_count": null,
   "metadata": {},
   "outputs": [],
   "source": [
    "# Conhecendo as colunas existentes\n",
    "df.columns.values"
   ]
  },
  {
   "cell_type": "code",
   "execution_count": null,
   "metadata": {},
   "outputs": [],
   "source": [
    "# Pré-análise das provas do enem\n",
    "df.rename(columns = {\n",
    "    'NU_NOTA_CN':'NOTAS_CIENCIAS_NATUREZA', \n",
    "    'NU_NOTA_CH': 'NOTA_HUMANAS', \n",
    "    'NU_NOTA_MT': 'NOTA_MATEMATICA', \n",
    "    'NU_NOTA_LC': 'NOTA_LINGUAS', \n",
    "    'NU_NOTA_REDACAO': 'NOTA_REDACAO'\n",
    "}, inplace = True) \n",
    "\n",
    "tests = [\n",
    "    \"NOTAS_CIENCIAS_NATUREZA\",\n",
    "    \"NOTA_HUMANAS\",\n",
    "    \"NOTA_MATEMATICA\",\n",
    "    \"NOTA_LINGUAS\",\n",
    "    \"NOTA_REDACAO\"\n",
    "]\n",
    "\n",
    "df[tests].describe()"
   ]
  },
  {
   "cell_type": "code",
   "execution_count": null,
   "metadata": {},
   "outputs": [],
   "source": [
    "df[tests].boxplot(\n",
    "    grid=True, \n",
    "    figsize= (10,8)\n",
    ")\n",
    "plt.savefig('./ImgOut/boxplot_notas_provas.png')"
   ]
  },
  {
   "cell_type": "markdown",
   "metadata": {},
   "source": [
    "### 2.2.3. Pré-Processamento de Dados<br>\n"
   ]
  },
  {
   "cell_type": "code",
   "execution_count": null,
   "metadata": {},
   "outputs": [],
   "source": [
    "# Colunas com dados null\n",
    "df.columns[df.isnull().any()]"
   ]
  },
  {
   "cell_type": "code",
   "execution_count": null,
   "metadata": {},
   "outputs": [],
   "source": [
    "# Limpando o dataset, removendo colunas que não serão utilizadas na análise\n",
    "\n",
    "del df['NU_INSCRICAO']\n",
    "del df['CO_MUNICIPIO_NASCIMENTO'] #codigo municipio de nascimento\n",
    "del df['CO_UF_NASCIMENTO'] #codigo do uf de nascimento\n",
    "del df['CO_ESCOLA'] #codigo escola\n",
    "del df['CO_MUNICIPIO_ESC'] #codigo municipio da escola\n",
    "del df['CO_UF_ESC'] #codigo uf da escola\n",
    "del df['TP_DEPENDENCIA_ADM_ESC'] #dependencia administrativa escola\n",
    "del df['TP_LOCALIZACAO_ESC'] #localizacao escola ?\n",
    "del df['TP_SIT_FUNC_ESC'] #situação de funcionamento ?\n",
    "del df['CO_PROVA_CN'] #codigo da prova 1\n",
    "del df['CO_PROVA_CH'] #codigo da prova 2\n",
    "del df['CO_PROVA_LC'] #codigo da prova 3\n",
    "del df['CO_PROVA_MT'] #codigo da prova 4\n",
    "del df['TX_RESPOSTAS_CN'] \n",
    "del df['TX_RESPOSTAS_CH'] \n",
    "del df['TX_RESPOSTAS_LC'] \n",
    "del df['TX_RESPOSTAS_MT'] \n",
    "del df['TX_GABARITO_CN'] \n",
    "del df['TX_GABARITO_CH'] \n",
    "del df['TX_GABARITO_LC'] \n",
    "del df['TX_GABARITO_MT'] \n",
    "del df['TP_ENSINO']\n",
    "del df['NO_MUNICIPIO_ESC']\n",
    "del df['SG_UF_ESC']"
   ]
  },
  {
   "cell_type": "code",
   "execution_count": null,
   "metadata": {},
   "outputs": [],
   "source": [
    "# Removendo registros sem notas \n",
    "df.dropna(axis= 0, subset=tests, inplace= True)"
   ]
  },
  {
   "cell_type": "code",
   "execution_count": null,
   "metadata": {},
   "outputs": [],
   "source": [
    "# Transformando as respostas em valores numéricos para análise\n",
    "\n",
    "col_questions = [\n",
    "    'Q001','Q002','Q003','Q004','Q005',\n",
    "    'Q006','Q007','Q008','Q009','Q010',\n",
    "    'Q011','Q012','Q013','Q014','Q015',\n",
    "    'Q016','Q017','Q018','Q019','Q020',\n",
    "    'Q021','Q022','Q023','Q024','Q025'\n",
    "]\n",
    "\n",
    "ord_enc = OrdinalEncoder()\n",
    "df[col_questions] = ord_enc.fit_transform(df[col_questions])\n",
    "\n",
    "df[\n",
    "    [\n",
    "    'Q001','Q002','Q003','Q004','Q005',\n",
    "    'Q006','Q007','Q008','Q009','Q010'\n",
    "    ]\n",
    "].head()"
   ]
  },
  {
   "cell_type": "code",
   "execution_count": null,
   "metadata": {},
   "outputs": [],
   "source": [
    "# Reduzindo a dimensionalidade dos valores relacionados a quantidade de pessoas na residência\n",
    "df.loc[df['Q005']>7, 'Q005'] = 7"
   ]
  },
  {
   "cell_type": "code",
   "execution_count": null,
   "metadata": {},
   "outputs": [],
   "source": [
    "# Catagorizando os dados relacionados a renda dos participantes\n",
    "# adaptado de https://economia.uol.com.br/colunas/econoweek/2020/09/25/classe-a-b-ou-c.htm#:~:text=Na%20classe%20C%2C%20est%C3%A3o%20as,%2C01%20e%20R%24%2020.900.\n",
    "df.loc[df['Q006']<=3, 'Q006'] = 0 #classe E\n",
    "df.loc[(df['Q006']>0) & (df['Q006']<=6), 'Q006'] = 1 #classe D\n",
    "df.loc[(df['Q006']>1) & (df['Q006']<=12), 'Q006'] = 2 #classe C\n",
    "df.loc[(df['Q006']>2) & (df['Q006']<=15), 'Q006'] = 3 #classe B\n",
    "df.loc[df['Q006']>3, 'Q006'] = 4  #classe A\n",
    "df.Q006.value_counts()"
   ]
  },
  {
   "cell_type": "markdown",
   "metadata": {},
   "source": [
    "### 2.2.4. Criação do dataframe para utilização na clusterização<br>\n",
    "\n",
    "<div align=\"justify\">Foi criado um dataframe para exploração dos dados e foram removidos todos os dados nulos.</div><br>"
   ]
  },
  {
   "cell_type": "code",
   "execution_count": null,
   "metadata": {},
   "outputs": [],
   "source": [
    "df_explore = df.copy()"
   ]
  },
  {
   "cell_type": "code",
   "execution_count": null,
   "metadata": {},
   "outputs": [],
   "source": [
    "df_explore = df_explore.dropna(axis=0)"
   ]
  },
  {
   "cell_type": "code",
   "execution_count": null,
   "metadata": {},
   "outputs": [],
   "source": [
    "# Normalizando os dados relacionados ao tipo de escola do participante\n",
    "df_explore = df_explore.loc[df_explore['TP_ESCOLA'].isin([2, 3])]\n",
    "df_explore['TIPO_ESCOLA'] = ''\n",
    "df_explore.loc[df_explore['TP_ESCOLA']==2, 'TIPO_ESCOLA'] = 'Publica'\n",
    "df_explore.loc[df_explore['TP_ESCOLA']==3, 'TIPO_ESCOLA'] = 'Privada'\n",
    "df_explore.loc[df_explore['TP_ESCOLA']==2, 'TP_ESCOLA'] = 0\n",
    "df_explore.loc[df_explore['TP_ESCOLA']==3, 'TP_ESCOLA'] = 1\n",
    "\n",
    "school = pd.get_dummies(df_explore.TIPO_ESCOLA.astype(str))\n",
    "name_school = school.columns.tolist()\n",
    "df_explore = pd.concat([df_explore, school], axis=1)"
   ]
  },
  {
   "cell_type": "code",
   "execution_count": null,
   "metadata": {},
   "outputs": [],
   "source": [
    "df_explore.TP_ESCOLA.value_counts()"
   ]
  },
  {
   "cell_type": "code",
   "execution_count": null,
   "metadata": {},
   "outputs": [],
   "source": [
    "# Normalizando os dados relacionados a raça/cor da participante\n",
    "df_explore = df_explore.loc[df_explore['TP_COR_RACA'].isin([1, 2, 3, 4])]\n",
    "df_explore['RACA'] = ''\n",
    "df_explore.loc[df_explore['TP_COR_RACA']==1, 'RACA'] = 'Branca'\n",
    "df_explore.loc[df_explore['TP_COR_RACA']==2, 'RACA'] = 'Preta'\n",
    "df_explore.loc[df_explore['TP_COR_RACA']==3, 'RACA'] = 'Parda'\n",
    "df_explore.loc[df_explore['TP_COR_RACA']==4, 'RACA'] = 'Amarela'\n",
    "df_explore.loc[df_explore['TP_COR_RACA']==5, 'RACA'] = 'Indigena'\n",
    "\n",
    "races = pd.get_dummies(df_explore.TP_COR_RACA.astype(str))\n",
    "name_races = races.columns.tolist()\n",
    "df_explore = pd.concat([df_explore, races], axis=1)"
   ]
  },
  {
   "cell_type": "code",
   "execution_count": null,
   "metadata": {},
   "outputs": [],
   "source": [
    "# Criação de uma coluna com a soma e a média das notas\n",
    "df_explore['SOMA_NOTAS'] = df_explore['NOTAS_CIENCIAS_NATUREZA'] + df_explore['NOTA_HUMANAS'] + df_explore['NOTA_MATEMATICA'] + df_explore['NOTA_LINGUAS'] + df_explore['NOTA_REDACAO'] \n",
    "df_explore['MEDIA_NOTAS'] = df_explore['SOMA_NOTAS'] / 5"
   ]
  },
  {
   "cell_type": "markdown",
   "metadata": {},
   "source": [
    "Nova análise e exploração dos dados que serão utilizados em ML"
   ]
  },
  {
   "cell_type": "code",
   "execution_count": null,
   "metadata": {},
   "outputs": [],
   "source": [
    "fig = px.box(\n",
    "    df_explore, \n",
    "    y='MEDIA_NOTAS', \n",
    "    title='Distribuição de notas médias',\n",
    "    labels={'MEDIA_NOTAS':'Média de Notas'}\n",
    ")\n",
    "fig.show()\n",
    "fig.write_image('./ImgOut/distro_notas.png')"
   ]
  },
  {
   "cell_type": "code",
   "execution_count": null,
   "metadata": {},
   "outputs": [],
   "source": [
    "#Removendo os outilers relacionados as notas\n",
    "df_explore = df_explore.loc[(df_explore['MEDIA_NOTAS'] >= 285.) & (df_explore['MEDIA_NOTAS'] <= 757.)]"
   ]
  },
  {
   "cell_type": "code",
   "execution_count": null,
   "metadata": {},
   "outputs": [],
   "source": [
    "fig = px.box(\n",
    "    df_explore, \n",
    "    y=tests, \n",
    "    color='RACA', \n",
    "    title='Distribuição de notas médias por tipo de prova e por cor/raça',\n",
    "    labels={\n",
    "        'value':'Média de notas',\n",
    "        'variable':'Cor/Raça'\n",
    "    }\n",
    ")\n",
    "fig.update_traces(quartilemethod=\"exclusive\")\n",
    "fig.show()\n",
    "fig.write_image('./ImgOut/distro_notas_etnia.png')"
   ]
  },
  {
   "cell_type": "code",
   "execution_count": null,
   "metadata": {},
   "outputs": [],
   "source": [
    "fig = px.box(\n",
    "    df_explore, \n",
    "    y='MEDIA_NOTAS', \n",
    "    x='RACA', \n",
    "    title='Distribuição de notas médias por raça/cor',\n",
    "    labels={\n",
    "        'MEDIA_NOTAS':'Média de notas',\n",
    "        'RACA':'Distribuição étnica'\n",
    "    }\n",
    ")\n",
    "fig.show()\n",
    "fig.write_image('./ImgOut/distro_notas_etnia2.png')"
   ]
  },
  {
   "cell_type": "code",
   "execution_count": null,
   "metadata": {},
   "outputs": [],
   "source": [
    "fig = px.box(\n",
    "    df_explore, \n",
    "    y='MEDIA_NOTAS', \n",
    "    x='TIPO_ESCOLA', \n",
    "    title='Distribuição de notas médias por tipo de escola',\n",
    "    labels={\n",
    "        'MEDIA_NOTAS':'Média de notas',\n",
    "        'TIPO_ESCOLA':'Tipo de escola'\n",
    "    }\n",
    ")\n",
    "fig.show()\n",
    "fig.write_image('./ImgOut/distro_notas_tipo_escola.png')"
   ]
  },
  {
   "cell_type": "code",
   "execution_count": null,
   "metadata": {},
   "outputs": [],
   "source": [
    "fig = px.box(\n",
    "    df_explore, \n",
    "    y=tests, \n",
    "    color='TIPO_ESCOLA', \n",
    "    title='Distribuição de notas médias por tipo de prova e por tipo de escola',\n",
    "    labels={\n",
    "        'value':'Média de notas',\n",
    "        'variable':'Tipo de prova'\n",
    "    }\n",
    ")\n",
    "fig.update_traces(quartilemethod=\"exclusive\")\n",
    "fig.show()\n",
    "fig.write_image('./ImgOut/distro_provas_escola.png')"
   ]
  },
  {
   "cell_type": "code",
   "execution_count": null,
   "metadata": {},
   "outputs": [],
   "source": [
    "# Função para gerar uma table\n",
    "def build_table(df, index, colunms):\n",
    "    df2 = df[index.keys()]\n",
    "\n",
    "    pieces = []\n",
    "    for col in df2.columns:\n",
    "        tmp_series = df2[col].value_counts()\n",
    "        tmp_series.name = col\n",
    "        pieces.append(tmp_series)\n",
    "    df_value_counts = pd.concat(pieces, axis=1)\n",
    "\n",
    "    df_t = df_value_counts.T\n",
    "    df_t.rename(columns=colunms, \n",
    "                index=index, inplace=True)\n",
    "\n",
    "    return df_t\n",
    "\n",
    "questions_escola = {   \n",
    "        'TP_ESCOLA': 'Estou em escola particular?'\n",
    "}\n",
    "\n",
    "\n",
    "build_table(df_explore, questions_escola, {0: 'Não', 1: 'Sim'})"
   ]
  },
  {
   "cell_type": "markdown",
   "metadata": {},
   "source": [
    "## 2.3. EDA II: *Exploratory Data Analysis* - Explorando a relação de algumas questões \"socioeconômicas *versus* média das notas\"<br>"
   ]
  },
  {
   "cell_type": "code",
   "execution_count": null,
   "metadata": {},
   "outputs": [],
   "source": [
    "fig = px.box(\n",
    "    df_explore, \n",
    "    y='MEDIA_NOTAS', \n",
    "    x='Q001', \n",
    "    title='Até que série seu pai, ou o homem responsável por você, estudou?',\n",
    "    labels={\n",
    "        'MEDIA_NOTAS':'Média de Notas', \n",
    "        'Q001':'Grau de instrução do pai ou homem responsável (núm. 7 equivale a \"Não sei\")'\n",
    "    }\n",
    ")\n",
    "fig.show()\n",
    "fig.write_image('./ImgOut/distro_notas_gi_pai.png')\n",
    "\n",
    "questions_grau_pai = {   \n",
    "        'Q001': 'Grau de instrução do pai ou homem responsávael'\n",
    "}"
   ]
  },
  {
   "cell_type": "code",
   "execution_count": null,
   "metadata": {},
   "outputs": [],
   "source": [
    "fig = px.box(\n",
    "    df_explore, \n",
    "    y='MEDIA_NOTAS', \n",
    "    x='Q002', \n",
    "    title='Grau de instrução da mãe ou mulher responsável',\n",
    "    labels={\n",
    "        'MEDIA_NOTAS':'Média de Notas', \n",
    "        'Q002':'Grau de instrução da mãe ou mulher responsável (núm. 7 equivale a \"Não sei\")'\n",
    "    }\n",
    ")\n",
    "fig.show()\n",
    "fig.write_image('./ImgOut/distro_notas_gi_mae.png')"
   ]
  },
  {
   "cell_type": "code",
   "execution_count": null,
   "metadata": {},
   "outputs": [],
   "source": [
    "fig = px.box(\n",
    "    df_explore, \n",
    "    y='MEDIA_NOTAS', \n",
    "    x='Q005', \n",
    "    title='Número de pessoas na residência',\n",
    "    labels={\n",
    "        'MEDIA_NOTAS':'Média de Notas', \n",
    "        'Q005':'Número de pessoas (núm. 7 equivale a 7 ou mais)'\n",
    "    }\n",
    ")\n",
    "fig.show()\n",
    "fig.write_image('./ImgOut/distro_notas_num_pessoas.png')"
   ]
  },
  {
   "cell_type": "code",
   "execution_count": null,
   "metadata": {},
   "outputs": [],
   "source": [
    "fig = px.box(\n",
    "    df_explore, \n",
    "    y='MEDIA_NOTAS', \n",
    "    x='Q006', \n",
    "    title='Nota por renda mensal familiar',\n",
    "    labels={\n",
    "        'MEDIA_NOTAS':'Média de Notas', \n",
    "        'Q006':'Grupos de renda familiar'\n",
    "    }\n",
    ")\n",
    "fig.show()\n",
    "fig.write_image('./ImgOut/distro_notas_renda.png')"
   ]
  },
  {
   "cell_type": "code",
   "execution_count": null,
   "metadata": {},
   "outputs": [],
   "source": [
    "fig = px.box(\n",
    "    df_explore, \n",
    "    y='MEDIA_NOTAS', \n",
    "    x='Q007', \n",
    "    title='Possui empregada(o) doméstica(o)?',\n",
    "    labels={\n",
    "        'MEDIA_NOTAS':'Média de Notas', \n",
    "        'Q007':'0 - Não possui, 1- um ou dois dias por semana, 2 - três ou quatro dias por semana, 3 - cinco ou mais dias por semana'\n",
    "    }\n",
    ")\n",
    "fig.show()\n",
    "fig.write_image('./ImgOut/distro_notas_empregada.png')"
   ]
  },
  {
   "cell_type": "code",
   "execution_count": null,
   "metadata": {},
   "outputs": [],
   "source": [
    "fig = px.box(\n",
    "    df_explore, \n",
    "    y='MEDIA_NOTAS', \n",
    "    x='Q008', \n",
    "    title='Possui banheiros na residência?',\n",
    "    labels={\n",
    "        'MEDIA_NOTAS':'Média de Notas', \n",
    "        'Q008':'Quantidade de banheiros na residência (núm. 4 equivale a 4 ou mais)'\n",
    "    }\n",
    ")\n",
    "fig.show()\n",
    "fig.write_image('./ImgOut/distro_notas_banheiro.png')"
   ]
  },
  {
   "cell_type": "code",
   "execution_count": null,
   "metadata": {},
   "outputs": [],
   "source": [
    "fig = px.box(\n",
    "    df_explore, \n",
    "    y='MEDIA_NOTAS', \n",
    "    x='Q009', \n",
    "    title='Possui quartos na residência?',\n",
    "    labels={\n",
    "        'MEDIA_NOTAS':'Média de Notas', \n",
    "        'Q009':'Número de quartos na residência (núm. 4 equivale a 4 ou mais)'\n",
    "    }\n",
    ")\n",
    "fig.show()\n",
    "fig.write_image('./ImgOut/distro_notas_quarto.png')"
   ]
  },
  {
   "cell_type": "code",
   "execution_count": null,
   "metadata": {},
   "outputs": [],
   "source": [
    "fig = px.box(\n",
    "    df_explore, \n",
    "    y='MEDIA_NOTAS', \n",
    "    x='Q010', \n",
    "    title='Possui carros na residência?',\n",
    "    labels={\n",
    "        'MEDIA_NOTAS':'Média de Notas', \n",
    "        'Q010':'Número de carros na residência (núm. 4 equivale a 4 ou mais)'\n",
    "    }\n",
    ")\n",
    "fig.show()\n",
    "fig.write_image('./ImgOut/distro_notas_carro.png')"
   ]
  },
  {
   "cell_type": "markdown",
   "metadata": {},
   "source": [
    "### 2.3.1. Clusterização<br>\n",
    "\n",
    "<div align=\"justify\">Após a análise das relações entre as notas médias e situação socioeconômica, foram selecionadas as <i>features</i>:</div>\n",
    "\n",
    "- Questões de 1 a 10, exceto Q003 e Q004, que diz respeito a área de atuação profissional dos pais ou responsáveis;\n",
    "\n",
    "- Média de notas;\n",
    "\n",
    "- Tipo de ensino cursado na educação básica (escola pública ou privada);\n",
    "\n",
    "<div align=\"justify\">O objetivo dessa etapa é avaliar a formação de agrupamentos (clusters) através da aplicação do algortimo K-means nos indicadores relacionados a situação socioeconômica dos participantes do Enem 2019.</div><br>"
   ]
  },
  {
   "cell_type": "code",
   "execution_count": null,
   "metadata": {},
   "outputs": [],
   "source": [
    "cols_sample = [\n",
    "    'MEDIA_NOTAS',\n",
    "    'Q001',\n",
    "    'Q002',\n",
    "    'Q005', \n",
    "    'Q006',\n",
    "    'Q007',\n",
    "    'Q008',\n",
    "    'Q009',\n",
    "    'Q010', \n",
    "    'TP_ESCOLA'\n",
    "]"
   ]
  },
  {
   "cell_type": "code",
   "execution_count": null,
   "metadata": {},
   "outputs": [],
   "source": [
    "# Amostragem de dados para os testes: 5000 instâncias\n",
    "sample_kmeans = df_explore[cols_sample].sample(n=5000, random_state=1)\n",
    "sample_kmeans = sample_kmeans.astype(int)"
   ]
  },
  {
   "cell_type": "code",
   "execution_count": null,
   "metadata": {},
   "outputs": [],
   "source": [
    "# Avaliação da correção entre variáveis\n",
    "# (não foi encontrada nenhuma variável com correlão muito alta, para ser retirada do dataset)\n",
    "\n",
    "corr = sample_kmeans.corr()\n",
    "plt.figure(figsize = (15, 10))\n",
    "sns.heatmap(\n",
    "    corr, \n",
    "    xticklabels=corr.columns.values,\n",
    "    yticklabels=corr.columns.values, \n",
    "    annot = True, \n",
    "    fmt='.2g'\n",
    ")\n",
    "plt.savefig('./ImgOut/heat_map.png')"
   ]
  },
  {
   "cell_type": "code",
   "execution_count": null,
   "metadata": {},
   "outputs": [],
   "source": [
    "# Removendo a coluna média das notas, para não interferir no resultado dos agrupamentos\n",
    "media_notas = sample_kmeans['MEDIA_NOTAS']\n",
    "del sample_kmeans['MEDIA_NOTAS']"
   ]
  },
  {
   "cell_type": "markdown",
   "metadata": {},
   "source": [
    "<div align=\"justify\">Para realizar a seleção do número <b>K-ótimo</b> de clusters, foram utilizadas as técnicas \"Elbow\" e \"Silhouette\", apresentadas a seguir:</div><br>"
   ]
  },
  {
   "cell_type": "code",
   "execution_count": null,
   "metadata": {},
   "outputs": [],
   "source": [
    "# Calcula a inertia, para saber o K ótimo\n",
    "\n",
    "inertia = []\n",
    "qtd_testes = 15\n",
    "for n in range(1 , qtd_testes):\n",
    "    algorithm = (\n",
    "        KMeans(\n",
    "            n_clusters = n\n",
    "        )\n",
    "    )\n",
    "    algorithm.fit(sample_kmeans)\n",
    "    inertia.append(algorithm.inertia_)\n",
    "\n",
    "# Plotando valores da inertia\n",
    "plt.figure(1 , figsize = (15 ,6))\n",
    "plt.plot(np.arange(1 , qtd_testes) , inertia , 'o')\n",
    "plt.plot(np.arange(1 , qtd_testes) , inertia , '-' , alpha = 0.5)\n",
    "plt.xlabel('Número de Clusters') \n",
    "plt.xticks(ticks=np.arange(1 , qtd_testes))\n",
    "plt.ylabel('Soma das Distâncias Q intra Clusters')\n",
    "plt.savefig('./ImgOut/elbow.png')\n",
    "plt.show()"
   ]
  },
  {
   "cell_type": "code",
   "execution_count": null,
   "metadata": {},
   "outputs": [],
   "source": [
    "# Visualização do cotovelo pelo método Elbow, com a seleção do \"k-ótimo\"\n",
    "kelbow_visualizer(\n",
    "    KMeans(), \n",
    "    sample_kmeans, \n",
    "    k=(\n",
    "        1,\n",
    "        qtd_testes\n",
    "    )\n",
    ")"
   ]
  },
  {
   "cell_type": "code",
   "execution_count": null,
   "metadata": {},
   "outputs": [],
   "source": [
    "# Visualização do cotovelo pelo método Silhouette, com a seleção do \"k-ótimo\"\n",
    "kelbow_visualizer(\n",
    "    KMeans(), \n",
    "    sample_kmeans, \n",
    "    k=(\n",
    "        2,\n",
    "        qtd_testes\n",
    "    ), \n",
    "    metric='silhouette'\n",
    ")"
   ]
  },
  {
   "cell_type": "code",
   "execution_count": null,
   "metadata": {},
   "outputs": [],
   "source": [
    "# Seleção automática do k-ótimo\n",
    "kl = KneeLocator(\n",
    "    range(\n",
    "        1, \n",
    "        qtd_testes\n",
    "    ), \n",
    "    inertia, \n",
    "    curve=\"convex\", \n",
    "    direction=\"decreasing\"\n",
    ")\n",
    "\n",
    "numero_de_clusters = kl.elbow\n",
    "print('Número de clusters sugerido para o modelo: ', numero_de_clusters)"
   ]
  },
  {
   "cell_type": "code",
   "execution_count": null,
   "metadata": {},
   "outputs": [],
   "source": [
    "# Inicializando e computando o KMeans :\n",
    "algorithm = (\n",
    "    KMeans(\n",
    "        n_clusters=numero_de_clusters\n",
    "    )\n",
    ")\n",
    "algorithm.fit(sample_kmeans)"
   ]
  },
  {
   "cell_type": "code",
   "execution_count": null,
   "metadata": {},
   "outputs": [],
   "source": [
    "# Reduzindo a dimensionalidade par uma melhor visualização\n",
    "time_start = time.time()\n",
    "tsne = TSNE()\n",
    "visualizacao = tsne.fit_transform(sample_kmeans)\n",
    "print('t-SNE executado! Tempo decorrido desde o início: ',format(time.time()-time_start), 'seconds')"
   ]
  },
  {
   "cell_type": "code",
   "execution_count": null,
   "metadata": {},
   "outputs": [],
   "source": [
    "sns.set(\n",
    "    rc={\n",
    "        'figure.figsize': (13, 13)\n",
    "    }\n",
    ")\n",
    "\n",
    "sns.scatterplot(\n",
    "    x=visualizacao[:, 0],\n",
    "    y=visualizacao[:, 1],\n",
    "    hue=algorithm.labels_,\n",
    "    palette=sns.color_palette(\n",
    "        'Set1', \n",
    "        numero_de_clusters\n",
    "    )\n",
    ")\n",
    "plt.savefig('./ImgOut/clustering.png')"
   ]
  },
  {
   "cell_type": "code",
   "execution_count": null,
   "metadata": {},
   "outputs": [],
   "source": [
    "sample_kmeans['Categoria'] = algorithm.labels_"
   ]
  },
  {
   "cell_type": "code",
   "execution_count": null,
   "metadata": {},
   "outputs": [],
   "source": [
    "# Scaler da média das notas\n",
    "start = 0\n",
    "end = 10\n",
    "width = end - start\n",
    "scaler_media = (media_notas - media_notas.min())/(media_notas.max() - media_notas.min()) * width + start\n",
    "sample_kmeans['MEDIA_NOTAS'] = scaler_media"
   ]
  },
  {
   "cell_type": "code",
   "execution_count": null,
   "metadata": {},
   "outputs": [],
   "source": [
    "sample_kmeans.rename(\n",
    "    columns = {\n",
    "        'Q001':'Grau de instrução do pai', \n",
    "        'Q002':'Grau de instrução da mãe',         \n",
    "        'Q005':'Número de pessoas na residência', \n",
    "        'Q006':'Grupo de renda mensal', \n",
    "        'Q007':'Possui empregada(o) doméstica(o) - dias',\n",
    "        'Q008':'Qtd banheiro na residência', \n",
    "        'Q010':'Quantidade de carros na residência',                \n",
    "        'Q009':'Quantidade de quartos na residência',\n",
    "        'TP_ESCOLA': 'Tipo de escola',\n",
    "        'MEDIA_NOTAS':  'Média da nota'\n",
    "    }, \n",
    "    inplace = True\n",
    ") "
   ]
  },
  {
   "cell_type": "code",
   "execution_count": null,
   "metadata": {},
   "outputs": [],
   "source": [
    "sample_kmeans.groupby(\"Categoria\").aggregate(\"mean\").plot.bar(figsize=(15,10))\n",
    "plt.title(\"Dados por categoria\")\n",
    "plt.savefig('./ImgOut/agrupamento_final.png')"
   ]
  },
  {
   "cell_type": "code",
   "execution_count": null,
   "metadata": {},
   "outputs": [],
   "source": [
    "endd = time.time()\n",
    "et = (endd - ini)/60\n",
    "print('Elapsed Application time: {:.2f}'.format(et),' minutes')"
   ]
  },
  {
   "cell_type": "markdown",
   "metadata": {},
   "source": [
    "# 3. RESULTADOS<br>\n",
    "\n",
    "\n",
    "<div align=\"justify\">De acordo com a análise dos agrupamentos sugeridos pelo K-Means, foram nomeados os quatro clusters como <b>A</b>, <b>B</b>, <b>C</b> e <b>D</b>. Essa classificação foi necessária para identificar, pelo gráfico anterior, a que grupo determinado participante do concurso do ENEM pode ser atribuído, visto que a cada execução da rotina, o identificador numérico dos grupos é aleatoriamente alterado.</div><br>\n",
    "\n",
    "Grupo A:\n",
    "-  Maior renda familiar;\n",
    "-  Ambos os responsavéis tem um \"ótimo\" grau de instrução;\n",
    "-  Melhores notas;\n",
    "    \n",
    "Grupo B:\n",
    "-   Renda familiar média;\n",
    "-   Ambos responsavéis tem um \"bom\" grau de instrução;\n",
    "-   Boas notas;\n",
    "\n",
    "Grupo C:\n",
    "-   Renda familiar média;\n",
    "-   Os responsavéis tem um bom grau de instrução;\n",
    "-   Boas notas;\n",
    "    \n",
    "Grupo D:\n",
    "-  Renda familiar baixa;\n",
    "-  Ambos os responsavéis tem uma baixo grau de instrução;\n",
    "-  Menores notas;"
   ]
  },
  {
   "cell_type": "markdown",
   "metadata": {},
   "source": [
    "# 4. CONCLUSÃO<br>\n",
    "\n",
    "<div align=\"justify\">De acordo com as análises realizadas e com a cluesterização final, é verificado que um dos principais fatores que levam a um bom resultado do participante no ENEM é o grau de escolaridade dos responsáveis. Os indicadores socioeconômicos também aparecem como fatores que ajudam a impulsionar estes bons resultados. Isto é provado pelo cluster representado pelo grupo <b>A</b>, onde estão concentradas as melhores notas, e onde os responsáveis apresentam um elevado grau de instrução escolar e com um renda superior aos demais grupos.</div><br>\n",
    "\n",
    "<div align=\"justify\">Outro dado interessante de se avaliar está relacionado com o grupo <b>C</b>, no qual se percebe que, embora as notas não sejam as maiores, o grau de instrução do pai ou responsável masculino é bastante elevado, maior do que os do grupo <b>A</b>, por exemplo. Isso pode ser um indicativo de que há um efeito positivo no desempenho dos estudantes quando ambos os pais possuem grau de instrução equivalente. Ainda, pode estar relacionado com pais divorciados, padrastos ou com o fato de que a referência masculina pode ser um terceiro, como o avô, por exemplo, motivos a serem explorados em trabalhos futuros.</div><br>\n"
   ]
  },
  {
   "cell_type": "markdown",
   "metadata": {},
   "source": [
    "# REFERÊNCIAS\n",
    "\n",
    "<div align=\"justify\"></div><br>\n",
    "\n",
    "\n",
    "[1] MELLIT, Adel; KALOGIROU, Soteris A. Artificial intelligence techniques for photovoltaic applications: A review. Progress in energy and combustion science, v. 34, n. 5, p. 574-632, 2008.\n",
    "\n",
    "[2] COSSETTI, Melissa. O que é inteligência artificial? Tecnoblog, 2020. Disponível em: https://tecnoblog.net/263808/o-que-e-inteligencia-artificial/. Acesso em: 17 dez. 2020.\n",
    "\n",
    "[3] SAS - STATISTICAL ANALYSIS SYSTEM. Machine Learning: what it is and why it matters. What it is and why it matters. Disponível em: https://www.sas.com/en_us/insights/analytics/machine-learning.html. Acesso em: 30 nov. 2020.\n",
    "\n",
    "[4] AMARAL, F. Aprenda Mineração de Dados: Teoria e prática. São Paulo: Alta Books, 2016.\n",
    "\n",
    "[5] SHALEV-SHWARTZ, S.; BEN-DAVID, S. Understanding Machine Learning: From Theory to Algorithms. Cambridge: Cambridge University Press, 2014.\n",
    "\n",
    "[6] BROWNLEE, Jason. Supervised and Unsupervised Machine Learning Algorithms. 2016. Disponível em: https://machinelearningmastery.com/supervised-and-unsupervised-machine-learning-algorithms/. Acesso em: 30 nov. 2020.\n",
    "\n",
    "[7] MONARD, M. C.; BARANAUSKAS, J. A. Conceitos sobre Aprendizado de Máquina. In: REZENDE, S. O. Sistemas inteligentes: fundamentos e aplicações. [S.l.]: Editora Manole Ltda, 2003. Cap. 4, p. 39-56\n",
    "\n",
    "[8] SANTANA, Felipe. Entenda o Algoritmo K-means e Saiba como Aplicar essa Técnica. 2017. Disponível em: https://minerandodados.com.br/entenda-o-algoritmo-k-means/. Acesso em: 03 dez. 2020.\n",
    "\n",
    "[9] GUIDINI, Marilene Bertuol; NASCIMENTO, Auster Moreira; BONE, Rosemarie Bröker; ALVES, Tiago Wickstrom. APLICAÇÃO DO K-MEANS CLUSTER PARA A CLASSIFICAÇÃO DE ESTILOS GERENCIAIS. Rio de Janeiro: Enegep, 2018.\n",
    "\n",
    "[10] FILHO, V. M. Um Novo Algoritmo de Agrupamento Semi-Supervisionado Baseado no Fuzzy C-Means. Universidade Federal de Pernambuco. Recife, p. 109. 2009.\n",
    "\n",
    "[11] MINISTÉRIO DA EDUCAÇÃO. ENEM: apresentação. Apresentação. Disponível em: http://portal.mec.gov.br/enem-sp-2094708791. Acesso em: 01 dez. 2020."
   ]
  }
 ],
 "metadata": {
  "kernelspec": {
   "display_name": "Python 3",
   "language": "python",
   "name": "python3"
  },
  "language_info": {
   "codemirror_mode": {
    "name": "ipython",
    "version": 3
   },
   "file_extension": ".py",
   "mimetype": "text/x-python",
   "name": "python",
   "nbconvert_exporter": "python",
   "pygments_lexer": "ipython3",
   "version": "3.8.3"
  }
 },
 "nbformat": 4,
 "nbformat_minor": 4
}
